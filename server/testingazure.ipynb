{
 "cells": [
  {
   "cell_type": "code",
   "execution_count": 40,
   "metadata": {},
   "outputs": [
    {
     "name": "stdout",
     "output_type": "stream",
     "text": [
      "===== Tag an image - remote =====\n",
      "Tags in the remote image: \n",
      "'clothing' with confidence 99.86%\n",
      "'sleeve' with confidence 91.59%\n",
      "'hood' with confidence 90.86%\n",
      "'hoodie' with confidence 88.72%\n",
      "'outerwear' with confidence 88.23%\n",
      "'sweatshirt' with confidence 87.97%\n",
      "'top' with confidence 85.09%\n",
      "'person' with confidence 63.95%\n",
      "'fashion' with confidence 52.72%\n",
      "\n",
      "End of Computer Vision quickstart.\n"
     ]
    }
   ],
   "source": [
    "from importlib.util import decode_source\n",
    "from azure.cognitiveservices.vision.computervision import ComputerVisionClient\n",
    "from azure.cognitiveservices.vision.computervision.models import OperationStatusCodes\n",
    "from azure.cognitiveservices.vision.computervision.models import VisualFeatureTypes\n",
    "from msrest.authentication import CognitiveServicesCredentials\n",
    "\n",
    "from array import array\n",
    "import os\n",
    "from PIL import Image\n",
    "import sys\n",
    "import time\n",
    "\n",
    "'''\n",
    "Authenticate\n",
    "Authenticates your credentials and creates a client.\n",
    "'''\n",
    "subscription_key = \"4986679743dc496bb04a5e117fc5e702\"\n",
    "endpoint = \"https://helloworldcv.cognitiveservices.azure.com/\"\n",
    "\n",
    "computervision_client = ComputerVisionClient(\n",
    "    endpoint, CognitiveServicesCredentials(subscription_key))\n",
    "'''\n",
    "END - Authenticate\n",
    "'''\n",
    "\n",
    "'''\n",
    "Quickstart variables\n",
    "These variables are shared by several examples\n",
    "'''\n",
    "# Images used for the examples: Describe an image, Categorize an image, Tag an image,\n",
    "# Detect faces, Detect adult or racy content, Detect the color scheme,\n",
    "# Detect domain-specific content, Detect image types, Detect objects\n",
    "# remote_image_url = r\"https://media.gq-magazine.co.uk/photos/611f7b80ca361ca29931f315/master/w_1920,h_1280,c_limit/Black%20shirts_0012_THe%20row.jpg\"\n",
    "# remote_image_url = r\"https://static.wixstatic.com/media/ce8b13_014591e533f8445f8aa05fbeb7eeef81~mv2.png/v1/fill/w_380,h_628,al_c,lg_1,q_85,enc_auto/PurpleRain.png\"\n",
    "remote_image_url = r\"https://cdn.shopify.com/s/files/1/0011/4651/9637/products/the_ourlovelastssolong_hoodieshot1_grande.png\"\n",
    "'''\n",
    "END - Quickstart variables\n",
    "'''\n",
    "\n",
    "\n",
    "'''\n",
    "Tag an Image - remote\n",
    "This example returns a tag (key word) for each thing in the image.\n",
    "'''\n",
    "print(\"===== Tag an image - remote =====\")\n",
    "# Call API with remote image\n",
    "tags_result_remote = computervision_client.tag_image(remote_image_url)\n",
    "analyze_result = computervision_client.analyze_image(remote_image_url, [VisualFeatureTypes.categories, VisualFeatureTypes.color, VisualFeatureTypes.description])\n",
    "describe_result = computervision_client.describe_image(remote_image_url)\n",
    "\n",
    "# Print results with confidence score\n",
    "print(\"Tags in the remote image: \")\n",
    "if (len(tags_result_remote.tags) == 0):\n",
    "    print(\"No tags detected.\")\n",
    "else:\n",
    "    for tag in tags_result_remote.tags:\n",
    "        print(\"'{}' with confidence {:.2f}%\".format(\n",
    "            tag.name, tag.confidence * 100))\n",
    "print()\n",
    "'''\n",
    "END - Tag an Image - remote\n",
    "'''\n",
    "print(\"End of Computer Vision quickstart.\")\n"
   ]
  },
  {
   "cell_type": "code",
   "execution_count": 41,
   "metadata": {},
   "outputs": [
    {
     "name": "stdout",
     "output_type": "stream",
     "text": [
      "{'additional_properties': {}, 'categories': [<azure.cognitiveservices.vision.computervision.models._models_py3.Category object at 0x122cf3e20>], 'adult': None, 'color': <azure.cognitiveservices.vision.computervision.models._models_py3.ColorInfo object at 0x122cf6880>, 'image_type': None, 'tags': None, 'description': <azure.cognitiveservices.vision.computervision.models._models_py3.ImageDescriptionDetails object at 0x122cf68b0>, 'faces': None, 'objects': None, 'brands': None, 'request_id': '1cd61b00-e208-4708-a68b-80eed4e1649a', 'metadata': <azure.cognitiveservices.vision.computervision.models._models_py3.ImageMetadata object at 0x122cf36d0>, 'model_version': '2021-05-01'}\n",
      "abstract_nonphoto\n",
      "{'additional_properties': {'isBwImg': False}, 'dominant_color_foreground': 'White', 'dominant_color_background': 'White', 'dominant_colors': ['White'], 'accent_color': '4E657D', 'is_bw_img': False}\n",
      "{'additional_properties': {}, 'text': 'a white shirt with a white collar', 'confidence': 0.36420756578445435}\n",
      "clothing\n",
      "person\n",
      "shirt\n",
      "white\n"
     ]
    }
   ],
   "source": [
    "print(analyze_result)\n",
    "\n",
    "for i in analyze_result.categories:\n",
    "    print(i.name)\n",
    "\n",
    "print(analyze_result.color)\n",
    "\n",
    "print(analyze_result.description.captions[0])\n",
    "\n",
    "for i in analyze_result.description.tags:\n",
    "    print(i)\n",
    "\n",
    "\n",
    "print(describe_result.)\n"
   ]
  }
 ],
 "metadata": {
  "kernelspec": {
   "display_name": "Python 3.10.4 ('hackathon')",
   "language": "python",
   "name": "python3"
  },
  "language_info": {
   "codemirror_mode": {
    "name": "ipython",
    "version": 3
   },
   "file_extension": ".py",
   "mimetype": "text/x-python",
   "name": "python",
   "nbconvert_exporter": "python",
   "pygments_lexer": "ipython3",
   "version": "3.9.13"
  },
  "orig_nbformat": 4,
  "vscode": {
   "interpreter": {
    "hash": "05d921314bb832f5f88fe4114f5ceed98b34bac22cfd329696a79bf300fe4bed"
   }
  }
 },
 "nbformat": 4,
 "nbformat_minor": 2
}
